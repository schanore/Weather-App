{
 "cells": [
  {
   "cell_type": "code",
   "execution_count": 1,
   "metadata": {},
   "outputs": [],
   "source": [
    "import tkinter as tk\n",
    "import requests\n",
    "from tkinter import font\n",
    "\n",
    "HEIGHT= 500\n",
    "WIDTH =600\n",
    "\n",
    "def format_response(weather):\n",
    "    try:\n",
    "        name =weather['name']\n",
    "        desc =weather['weather'][0]['description']\n",
    "        temp = weather['main']['temp']\n",
    "        final_str = 'City: %s \\nConditions: %s \\nTemperature(F): %s' %(name,desc,temp)\n",
    "    except:\n",
    "        final_str = 'There was a problem retrieving that information'\n",
    "    return final_str\n",
    "\n",
    "def get_weather(city):\n",
    "    #450e6ae29082db78f3d21188260999de\n",
    "    \n",
    "    #weather_key ='a201216e90665c4669caf5cf54643787'\n",
    "    weather_key ='450e6ae29082db78f3d21188260999de'\n",
    "    url = 'https://api.openweathermap.org/data/2.5/weather?q= %s'%(city)\n",
    "    params = {'APPID':weather_key,'q':city,'units':'imperial'}\n",
    "    response = requests.get(url,params =params)\n",
    "    weather =response.json()\n",
    "    print(response.json())\n",
    "    label['text'] = format_response(weather)\n",
    "    \n",
    "root = tk.Tk()\n",
    "canvas = tk.Canvas(root, height =HEIGHT, width=WIDTH)\n",
    "canvas.pack()\n",
    "\n",
    "bg_img = tk.PhotoImage(file ='Sky.png')\n",
    "bg_label = tk.Label(root,image=bg_img)\n",
    "bg_label.place(relwidth=1, relheight=1)\n",
    "#bg_label.pack()\n",
    "\n",
    "frame = tk.Frame(root, bg = '#80c1ff')\n",
    "frame.place(relx =0.5,rely=0.1, relwidth=0.75, relheight=0.1, anchor='n')\n",
    "\n",
    "entry = tk.Entry(frame, font =40)\n",
    "entry.place(relwidth=0.65, relheight=1)\n",
    "\n",
    "button = tk.Button(frame, text =\"Get Weather\", font=20, command = lambda:get_weather(entry.get()))\n",
    "button.place(relx = 0.7,relwidth=0.3, relheight=1)\n",
    "\n",
    "lowerframe = tk.Frame(root, bg = '#80c1ff', bd=10)\n",
    "lowerframe.place(relx =0.5,rely=0.25, relwidth=0.75, relheight=0.6, anchor='n')\n",
    "\n",
    "label =tk.Label(lowerframe)\n",
    "label.place(relwidth= 1, relheight=1)\n",
    "\n",
    "\n",
    "root.mainloop()\n"
   ]
  },
  {
   "cell_type": "code",
   "execution_count": null,
   "metadata": {},
   "outputs": [],
   "source": []
  },
  {
   "cell_type": "code",
   "execution_count": null,
   "metadata": {},
   "outputs": [],
   "source": []
  }
 ],
 "metadata": {
  "kernelspec": {
   "display_name": "Python 3",
   "language": "python",
   "name": "python3"
  },
  "language_info": {
   "codemirror_mode": {
    "name": "ipython",
    "version": 3
   },
   "file_extension": ".py",
   "mimetype": "text/x-python",
   "name": "python",
   "nbconvert_exporter": "python",
   "pygments_lexer": "ipython3",
   "version": "3.7.1"
  }
 },
 "nbformat": 4,
 "nbformat_minor": 2
}
